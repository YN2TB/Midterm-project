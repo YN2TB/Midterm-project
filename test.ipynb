{
 "cells": [
  {
   "cell_type": "code",
   "execution_count": 3,
   "metadata": {},
   "outputs": [
    {
     "name": "stdout",
     "output_type": "stream",
     "text": [
      "[('Select Category', '', 123, ''), ('', '', 12312, ''), ('', '', 3, '')]\n"
     ]
    }
   ],
   "source": [
    "from mydb import *\n",
    "\n",
    "expense_data = Database(db='finance.db', table_name='expense_record')\n",
    "\n",
    "income_data = Database(db='finance.db', table_name='income_record')\n",
    "\n",
    "print(income_data.fetch_ex())\n"
   ]
  }
 ],
 "metadata": {
  "kernelspec": {
   "display_name": "Python 3",
   "language": "python",
   "name": "python3"
  },
  "language_info": {
   "codemirror_mode": {
    "name": "ipython",
    "version": 3
   },
   "file_extension": ".py",
   "mimetype": "text/x-python",
   "name": "python",
   "nbconvert_exporter": "python",
   "pygments_lexer": "ipython3",
   "version": "3.12.4"
  }
 },
 "nbformat": 4,
 "nbformat_minor": 2
}
